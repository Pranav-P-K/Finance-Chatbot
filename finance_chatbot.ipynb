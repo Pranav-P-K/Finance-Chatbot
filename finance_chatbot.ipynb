{
 "cells": [
  {
   "cell_type": "code",
   "execution_count": 1,
   "id": "cd1eb4bd",
   "metadata": {},
   "outputs": [],
   "source": [
    "import pandas as pd"
   ]
  },
  {
   "cell_type": "code",
   "execution_count": 2,
   "id": "40e27a96",
   "metadata": {},
   "outputs": [],
   "source": [
    "# Load the data from the Excel spreadsheet\n",
    "file_path = './data.csv'\n",
    "df = pd.read_csv(file_path)"
   ]
  },
  {
   "cell_type": "code",
   "execution_count": 3,
   "id": "ecc62683",
   "metadata": {},
   "outputs": [],
   "source": [
    "# Calculate year-over-year growth rates for Total Revenue and Net Income\n",
    "df['Revenue Growth (%)'] = df.groupby('Company')['Total Revenue'].pct_change() * 100\n",
    "df['Net Income Growth (%)'] = df.groupby('Company')['Net Income'].pct_change() * 100"
   ]
  },
  {
   "cell_type": "code",
   "execution_count": 4,
   "id": "327a9474",
   "metadata": {},
   "outputs": [],
   "source": [
    "# Fill NA values that result from pct_change calculations with 0 or an appropriate value\n",
    "df.fillna(0, inplace=True)"
   ]
  },
  {
   "cell_type": "code",
   "execution_count": 5,
   "id": "bd35426b",
   "metadata": {},
   "outputs": [
    {
     "name": "stdout",
     "output_type": "stream",
     "text": [
      "     Company  Year  Total Revenue  Net Income  Total Assets  \\\n",
      "0  Microsoft  2024         245122       88136        512163   \n",
      "1  Microsoft  2023         211915       72361        411976   \n",
      "2  Microsoft  2022         198270       72738        364840   \n",
      "3      Tesla  2024          97690        7153        122070   \n",
      "4      Tesla  2023          96773       14974        106618   \n",
      "5      Tesla  2022          81462       12587         82338   \n",
      "6      Apple  2024         391035       93736        364980   \n",
      "7      Apple  2023         383285       96995        352583   \n",
      "8      Apple  2022         394328       99803        352755   \n",
      "\n",
      "   Total Liabilities  Cash Flow  Revenue Growth (%)  Net Income Growth (%)  \n",
      "0             243686     118548            0.000000               0.000000  \n",
      "1             205753      87852          -13.547132             -17.898475  \n",
      "2             198298      89035           -6.438902               0.520999  \n",
      "3              48390      14923            0.000000               0.000000  \n",
      "4              43009      13256           -0.938684             109.338739  \n",
      "5              36440      14974          -15.821562             -15.940964  \n",
      "6             308030     118254            0.000000               0.000000  \n",
      "7             290437     110543           -1.981920               3.476786  \n",
      "8             302083     122151            2.881146               2.894995  \n"
     ]
    }
   ],
   "source": [
    "# Display the dataframe to verify the calculations\n",
    "print(df)"
   ]
  },
  {
   "cell_type": "code",
   "execution_count": 6,
   "id": "4f421cbd",
   "metadata": {},
   "outputs": [],
   "source": [
    "# Optionally, you could summarize these findings for each company\n",
    "summary = df.groupby('Company').agg({\n",
    "    'Revenue Growth (%)': 'mean',\n",
    "    'Net Income Growth (%)': 'mean'\n",
    "}).reset_index()"
   ]
  },
  {
   "cell_type": "code",
   "execution_count": 7,
   "id": "7d907125",
   "metadata": {},
   "outputs": [
    {
     "name": "stdout",
     "output_type": "stream",
     "text": [
      "\n",
      "Year-over-Year Average Growth Rates (%):\n",
      "     Company  Revenue Growth (%)  Net Income Growth (%)\n",
      "0      Apple            0.299742               2.123927\n",
      "1  Microsoft           -6.662011              -5.792492\n",
      "2      Tesla           -5.586748              31.132592\n"
     ]
    }
   ],
   "source": [
    "print(\"\\nYear-over-Year Average Growth Rates (%):\")\n",
    "print(summary)"
   ]
  },
  {
   "cell_type": "code",
   "execution_count": 8,
   "id": "3ed024ba",
   "metadata": {},
   "outputs": [],
   "source": [
    "# Define chatbot\n",
    "def simple_chatbot(user_query):\n",
    "    user_query = user_query.lower()\n",
    "    \n",
    "    if \"total revenue\" in user_query and \"apple\" in user_query and \"2024\" in user_query:\n",
    "        value = df[(df['Company'] == 'Apple') & (df['Year'] == 2024)]['Total Revenue'].values[0]\n",
    "        return f\"The total revenue of Apple in 2024 was ${value:,} million.\"\n",
    "    \n",
    "    elif \"net income\" in user_query and \"microsoft\" in user_query and \"2023\" in user_query:\n",
    "        value = df[(df['Company'] == 'Microsoft') & (df['Year'] == 2023)]['Net Income'].values[0]\n",
    "        return f\"Microsoft's net income in 2023 was ${value:,} million.\"\n",
    "    \n",
    "    elif \"revenue changed\" in user_query and \"tesla\" in user_query:\n",
    "        value = df[(df['Company'] == 'Tesla') & (df['Year'] == 2024)]['Revenue Growth (%)'].values[0]\n",
    "        return f\"Tesla's revenue changed by {value:.2f}% in 2024 compared to 2023.\"\n",
    "    \n",
    "    elif \"average revenue growth\" in user_query and \"apple\" in user_query:\n",
    "        value = summary[summary['Company'] == 'Apple']['Revenue Growth (%)'].values[0]\n",
    "        return f\"Apple's average revenue growth over 2022–2024 was {value:.2f}%.\"\n",
    "    \n",
    "    elif \"average net income growth\" in user_query and \"microsoft\" in user_query:\n",
    "        value = summary[summary['Company'] == 'Microsoft']['Net Income Growth (%)'].values[0]\n",
    "        return f\"Microsoft's average net income growth over 2022–2024 was {value:.2f}%.\"\n",
    "    \n",
    "    else:\n",
    "        return \"Sorry, I can only provide information on predefined queries like revenue, net income, or growth for Apple, Microsoft, and Tesla.\""
   ]
  },
  {
   "cell_type": "code",
   "execution_count": 10,
   "id": "56881d2f",
   "metadata": {},
   "outputs": [
    {
     "name": "stdout",
     "output_type": "stream",
     "text": [
      "💬 Welcome to the Financial Chatbot! Type 'exit' to quit.\n",
      "Bot: The total revenue of Apple in 2024 was $391,035 million.\n",
      "Bot: Tesla's revenue changed by 0.00% in 2024 compared to 2023.\n",
      "Bot: Microsoft's average net income growth over 2022–2024 was -5.79%.\n",
      "Bot: Sorry, I can only provide information on predefined queries like revenue, net income, or growth for Apple, Microsoft, and Tesla.\n"
     ]
    }
   ],
   "source": [
    "# Command-line chatbot interface\n",
    "print(\"💬 Welcome to the Financial Chatbot! Type 'exit' to quit.\")\n",
    "while True:\n",
    "    query = input(\"You: \")\n",
    "    if query.lower() == 'exit':\n",
    "        break\n",
    "    print(\"Bot:\", simple_chatbot(query))"
   ]
  }
 ],
 "metadata": {
  "kernelspec": {
   "display_name": "Python 3",
   "language": "python",
   "name": "python3"
  },
  "language_info": {
   "codemirror_mode": {
    "name": "ipython",
    "version": 3
   },
   "file_extension": ".py",
   "mimetype": "text/x-python",
   "name": "python",
   "nbconvert_exporter": "python",
   "pygments_lexer": "ipython3",
   "version": "3.12.4"
  }
 },
 "nbformat": 4,
 "nbformat_minor": 5
}
